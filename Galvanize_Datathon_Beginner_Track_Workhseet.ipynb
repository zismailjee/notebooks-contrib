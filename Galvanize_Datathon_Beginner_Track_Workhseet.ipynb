{
  "nbformat": 4,
  "nbformat_minor": 0,
  "metadata": {
    "colab": {
      "name": "Galvanize Datathon  Beginner Track Workhseet",
      "provenance": [],
      "collapsed_sections": [
        "9VNx6ozkSVdd",
        "7Gz-EW-v-5tr",
        "Z5JhBc95-qCO",
        "ZS1h6Mri-rDg",
        "9lp5JVDR-rem",
        "0eAaDxGX-rlA",
        "3BeLwA_3-ruS"
      ],
      "include_colab_link": true
    },
    "kernelspec": {
      "name": "python3",
      "display_name": "Python 3"
    },
    "language_info": {
      "name": "python"
    }
  },
  "cells": [
    {
      "cell_type": "markdown",
      "metadata": {
        "id": "view-in-github",
        "colab_type": "text"
      },
      "source": [
        "<a href=\"https://colab.research.google.com/github/zismailjee/notebooks-contrib/blob/0.12-cugraph-benchmarks/Galvanize_Datathon_Beginner_Track_Workhseet.ipynb\" target=\"_parent\"><img src=\"https://colab.research.google.com/assets/colab-badge.svg\" alt=\"Open In Colab\"/></a>"
      ]
    },
    {
      "cell_type": "markdown",
      "metadata": {
        "id": "nBnQNCNuDYTF"
      },
      "source": [
        "# Do this first! Welcome to Google Colab\n",
        "\n",
        "Colab is essentially Google's way of hosting a jupyter notebook. A very popular tool to use as a data scientist!\n",
        "\n",
        "It allows us to write code, documentation, and output visuals all in one place.\n",
        "\n",
        "# **To be able to and edit the code in this workshop. Please make a copy for yourself**\n",
        "\n",
        "# **file > save a copy in drive**\n",
        "\n",
        "This should open a new tab with your own copy of this notebook. It can take a minute to load.\n",
        "\n",
        "Colab also gives you some options for running complicated computations such as training deep learning model. To see access those options:\n",
        "\n",
        "Runtime > change runtime type Select GPU, TPU, or None\n",
        "\n",
        "We don't need to change anything for this workshop, but its a great resource if you start learning deep learning and don't have a powerful GPU at home.\n",
        "\n",
        "This is a text cell.\n",
        "\n",
        "You can add a new text cell by clicking + Text above.\n",
        "\n",
        "It does not highlight wrong spelling. I apologize for any typos!\n",
        "\n",
        "# Instructions and Important Information\n",
        "\n",
        "Welcome to the Galvanize Datathon Beginner Track. If you are here, you are beginning your journey to becoming a data scientist and Python coder. This event is designed to accelerate your development by rapidly introducing you to learning materials with Python that you will need to thrive in the Data Science Immersive at Galvanize. \n",
        "\n",
        "The topics that will be covered during this week in this Beginner Track can be found below. In addition to holding lectures on these subjects, Galvanize will provide you with a __ question worksheet to both accompany these lectures and guide you on the main purpose of the Datathon: learning how to analyze a public dataset.\n",
        "\n",
        "- Variables\n",
        "\n",
        "- Strings\n",
        "\n",
        "- Numbers\n",
        "\n",
        "- Lists\n",
        "\n",
        "- Dictionaries\n",
        "\n",
        "- Conditionals\n",
        "\n",
        "- Loops\n",
        "\n",
        "- Functions\n",
        "\n",
        "- Scopes\n",
        "\n",
        "- Working with libraries, like...\n",
        "\n",
        "- Pandas\n",
        "\n",
        "- What Pandas is\n",
        "\n",
        "- How and when to use it\n",
        "\n",
        "- The difference between DataFrames and Databases\n",
        "\n",
        "- The difference between DataFrames and the Pandas Series\n",
        "\n",
        "- How to populate a DataFrame\n",
        "\n",
        "- Renaming Columns\n",
        "\n",
        "- Manipulating DataFrames\n",
        "\n",
        "- Generating descriptive statistics\n",
        "\n",
        "- Visualizing your DataFrame\n",
        "\n",
        "- Intro to optimizing performance\n",
        "\n",
        "- An introductory primer on 6 data visualization libraries\n",
        "- How to use a dataframe with each of these libraries to visualize data\n",
        "\n",
        "- How to save all your hard work\n",
        "\n",
        "\n"
      ]
    },
    {
      "cell_type": "code",
      "metadata": {
        "colab": {
          "base_uri": "https://localhost:8080/"
        },
        "id": "Aa_MMA1DAsjr",
        "outputId": "497f192e-17c7-4cd1-8ec9-8ed00903b8e3"
      },
      "source": [
        ""
      ],
      "execution_count": null,
      "outputs": [
        {
          "output_type": "stream",
          "text": [
            "[1, 2, 3, 4, 5, 1, 2, 3, 4, 5]\n",
            "{1, 2, 3, 4, 5}\n"
          ],
          "name": "stdout"
        }
      ]
    },
    {
      "cell_type": "markdown",
      "metadata": {
        "id": "9VNx6ozkSVdd"
      },
      "source": [
        "# Questions: \n",
        "\n",
        "\n"
      ]
    },
    {
      "cell_type": "markdown",
      "metadata": {
        "id": "7Gz-EW-v-5tr"
      },
      "source": [
        "## Section 1: Python Crash Course \n",
        "10 questions relating to the basic materials of the intro to python part 1 and 2 \""
      ]
    },
    {
      "cell_type": "code",
      "metadata": {
        "id": "jb3eIsqW-9Lp"
      },
      "source": [
        "#1. Print the word Galvanize\n"
      ],
      "execution_count": null,
      "outputs": []
    },
    {
      "cell_type": "code",
      "metadata": {
        "id": "L9sE8Q2Y_CVj",
        "colab": {
          "base_uri": "https://localhost:8080/"
        },
        "outputId": "b14301cd-dcea-4b5c-f4ab-ee54559a513d"
      },
      "source": [
        "#2. Create a variable var and assign it to the value 10. print your answer"
      ],
      "execution_count": null,
      "outputs": [
        {
          "output_type": "stream",
          "text": [
            "10\n"
          ],
          "name": "stdout"
        }
      ]
    },
    {
      "cell_type": "code",
      "metadata": {
        "id": "7-tPzRXh_8RM"
      },
      "source": [
        "#3. What operator would you use to do division? what about exponentiation? print your answer"
      ],
      "execution_count": null,
      "outputs": []
    },
    {
      "cell_type": "code",
      "metadata": {
        "id": "fqjvm131_8gF"
      },
      "source": [
        "#4. Concatenate the strings \"Your \" and \"name\", and assign them to the variable namestring. \n",
        "#print your answer"
      ],
      "execution_count": null,
      "outputs": []
    },
    {
      "cell_type": "code",
      "metadata": {
        "id": "qL3bOq6i_8qe"
      },
      "source": [
        "#5. Update the list object movies below to contain the films \"Titanic\", \"Parasite\", and \"Get Out\", in that order.\n",
        "# print the list (hint: use the .append() method)\n",
        "\n",
        "movies = []"
      ],
      "execution_count": null,
      "outputs": []
    },
    {
      "cell_type": "code",
      "metadata": {
        "id": "3TMfNC4a_80x"
      },
      "source": [
        ""
      ],
      "execution_count": null,
      "outputs": []
    },
    {
      "cell_type": "code",
      "metadata": {
        "id": "cJ5KGHzF_8-V"
      },
      "source": [
        "#6. Print the values associated in the dictionary Football_Clubs with the key \"US\"\n",
        "\n",
        "Football_Clubs = {'US': ['Atlanta United FC', 'Chicago Fire', 'Colorado Rapids', 'Columbus Crew SC', 'D.C. United', 'FC Dallas', 'Houston Dynamo', 'LA Galaxy', 'Los Angeles FC', 'Minnesota United,' 'FC Montreal Impact', 'New England Revolution', 'New York City FC', 'New York Red Bulls', 'Orlando City SC', 'Philadelphia Union', 'Portland Timbers', 'Real Salt Lake', 'San Jose Earthquakes', 'Seattle Sounders', 'FC Sporting Kansas City', 'Toronto', 'FC Vancouver', 'Whitecaps FC']}\n",
        "                         \n"
      ],
      "execution_count": null,
      "outputs": []
    },
    {
      "cell_type": "code",
      "metadata": {
        "id": "fY_bLD-9D8xa",
        "colab": {
          "base_uri": "https://localhost:8080/"
        },
        "outputId": "948d27c7-0b1b-4a50-e2ab-08ba48c52d97"
      },
      "source": [
        "#7. Use slicing to print the list below without the first and last elements\n",
        "\n",
        "lst = [1,2,3,4,5,6,7,8,9,10]\n",
        "\n"
      ],
      "execution_count": null,
      "outputs": [
        {
          "output_type": "execute_result",
          "data": {
            "text/plain": [
              "[2, 3, 4, 5, 6, 7]"
            ]
          },
          "metadata": {
            "tags": []
          },
          "execution_count": 4
        }
      ]
    },
    {
      "cell_type": "code",
      "metadata": {
        "id": "v9r3hCeKElBM"
      },
      "source": [
        "# 8. Write a code snippet using conditionals which tells you if a variable is equal to the string 'Horse'\n",
        "\n"
      ],
      "execution_count": null,
      "outputs": []
    },
    {
      "cell_type": "code",
      "metadata": {
        "id": "9xDC-oKNElwY"
      },
      "source": [
        "# 9. Write a while loop which decreases the value of the variable by one \n",
        "# in each iteration and stops if the variable is equal to 0\n"
      ],
      "execution_count": null,
      "outputs": []
    },
    {
      "cell_type": "code",
      "metadata": {
        "id": "v9DfOxcTFUFG"
      },
      "source": [
        "# 10. Use a for loop to print every object in the list associated with the key \n",
        "# 'US' in the dictionary Football_Clubs\n",
        "Football_Clubs = {'US': ['Atlanta United FC', 'Chicago Fire', 'Colorado Rapids', 'Columbus Crew SC', 'D.C. United', 'FC Dallas', 'Houston Dynamo', 'LA Galaxy', 'Los Angeles FC', 'Minnesota United,' 'FC Montreal Impact', 'New England Revolution', 'New York City FC', 'New York Red Bulls', 'Orlando City SC', 'Philadelphia Union', 'Portland Timbers', 'Real Salt Lake', 'San Jose Earthquakes', 'Seattle Sounders', 'FC Sporting Kansas City', 'Toronto', 'FC Vancouver', 'Whitecaps FC']}\n"
      ],
      "execution_count": null,
      "outputs": []
    },
    {
      "cell_type": "markdown",
      "metadata": {
        "id": "aVZaBcDgH2_L"
      },
      "source": [
        "### some helper code, run these cells"
      ]
    },
    {
      "cell_type": "code",
      "metadata": {
        "id": "t4btg8sRHz6e"
      },
      "source": [
        "import requests\n",
        "import pandas as pd\n",
        "base_url='https://www.metaweather.com/api/location/2490383/2021/1/'\n",
        "\n",
        "response=requests.get(base_url+'1')\n",
        "\n",
        "weather=pd.DataFrame(response.json())"
      ],
      "execution_count": null,
      "outputs": []
    },
    {
      "cell_type": "markdown",
      "metadata": {
        "id": "Z5JhBc95-qCO"
      },
      "source": [
        "## Section 2: Pandas\n",
        "10 questions that reinforce the lessons from the intro to pandas materials"
      ]
    },
    {
      "cell_type": "code",
      "metadata": {
        "id": "5m4myUZpDrsc"
      },
      "source": [
        "#1. Import the Pandas library with the alias pd\n",
        "\n"
      ],
      "execution_count": null,
      "outputs": []
    },
    {
      "cell_type": "code",
      "metadata": {
        "id": "vdYDUbtuHXTX"
      },
      "source": [
        "#2. Here is a DataFrame weather. Print the last ten rows of this dataframe\n",
        "weather "
      ],
      "execution_count": null,
      "outputs": []
    },
    {
      "cell_type": "code",
      "metadata": {
        "id": "rpZ6I4tKHXcy"
      },
      "source": [
        "#3. What is the most common wind direction according to the compass in the weather dataframe?\n"
      ],
      "execution_count": null,
      "outputs": []
    },
    {
      "cell_type": "code",
      "metadata": {
        "id": "dRAMzilcPIhB"
      },
      "source": [
        "#4. Find the sum of the wind_speeds column of the weather dataset\n",
        "\n"
      ],
      "execution_count": null,
      "outputs": []
    },
    {
      "cell_type": "code",
      "metadata": {
        "id": "0umkX9V_HXks"
      },
      "source": [
        "#5. from the weather dataframe, print from the 17th to 35th rows \n",
        "\n"
      ],
      "execution_count": null,
      "outputs": []
    },
    {
      "cell_type": "code",
      "metadata": {
        "id": "NNXV9keMHXsG"
      },
      "source": [
        "#6. Create bins to seperate the weather dataframe by wind_speed into 3 groupings.\n",
        "# assign it to a variable new_col\n",
        "# hint: pd.cut()\n",
        "\n"
      ],
      "execution_count": null,
      "outputs": []
    },
    {
      "cell_type": "code",
      "metadata": {
        "id": "aZdGozVvJ-j2"
      },
      "source": [
        "#7. Add that column to the weather dataframe.\n",
        "\n"
      ],
      "execution_count": null,
      "outputs": []
    },
    {
      "cell_type": "code",
      "metadata": {
        "id": "SrlCQOfLKr72"
      },
      "source": [
        "#8. What are the different object types in the dataframe? print them\n"
      ],
      "execution_count": null,
      "outputs": []
    },
    {
      "cell_type": "code",
      "metadata": {
        "id": "DaQnVVRhKst7"
      },
      "source": [
        "# 9. What is the mean value for each column?\n",
        "\n"
      ],
      "execution_count": null,
      "outputs": []
    },
    {
      "cell_type": "code",
      "metadata": {
        "id": "HjQ7habEKtK4"
      },
      "source": [
        "#10. use the Pandas DataFrame .plot() to visualize the humidity\n",
        "# using the bins in the bins column\n",
        "\n",
        "\n",
        "#bonus: let's work on our interpretation. \n",
        "# Can you explain what this visualization is telling us?\n"
      ],
      "execution_count": null,
      "outputs": []
    },
    {
      "cell_type": "markdown",
      "metadata": {
        "id": "ZS1h6Mri-rDg"
      },
      "source": [
        "## Section 3: Visualization in Python part 1: 6 libraries to try\n",
        "12 questions that reinforce the lessons from the intro to 6 data visualization libraries. Below the helper cell are 4 cells with dataframes. use these dataframes for this section. "
      ]
    },
    {
      "cell_type": "code",
      "metadata": {
        "id": "yXOwT9KvYRu2"
      },
      "source": [
        "# Helpers: run this cell\n",
        "import io\n",
        "import datetime as dt\n",
        "import pandas as pd\n",
        "\n",
        "from bokeh.plotting import figure\n",
        "from bokeh.io import output_notebook, show, output_file\n",
        "from bokeh.models import ColumnDataSource, HoverTool, Panel\n",
        "from bokeh.models.widgets import Tabs\n",
        "import plotly.express as px\n",
        "import matplotlib.pyplot as plt\n",
        "import seaborn as sns\n",
        "\n",
        "# Plotting libraries - Geospatial mapping\n",
        "import folium\n",
        "from branca.element import Figure\n",
        "\n",
        "from sklearn import datasets\n",
        "ca_housing = datasets.fetch_california_housing()\n",
        "cancer = datasets.load_breast_cancer()\n",
        "wine = datasets.load_wine()\n",
        "iris = datasets.load_iris()\n",
        "\n",
        "download = requests.get(url = 'https://raw.githubusercontent.com/jbrownlee/Datasets/master/shampoo.csv').content\n",
        "shampoo =pd.read_csv(io.StringIO(download.decode('utf-8')))\n",
        "\n",
        "# use this dataframe df for this section where specified.\n",
        "df = pd.DataFrame(ca_housing.data, columns=ca_housing.feature_names)\n",
        "cancer_df = pd.DataFrame(cancer.data, columns = cancer.feature_names)\n",
        "cancer_df['has_cancer?'] = cancer.target\n",
        "wine_df = pd.DataFrame(wine.data, columns = wine.feature_names)\n",
        "\n",
        "iris_df = pd.DataFrame(iris.data, columns = iris.feature_names)\n",
        "iris_df['species'] = iris.target\n"
      ],
      "execution_count": null,
      "outputs": []
    },
    {
      "cell_type": "code",
      "metadata": {
        "colab": {
          "base_uri": "https://localhost:8080/",
          "height": 80
        },
        "id": "y969CpvBKBal",
        "outputId": "31729f09-118e-4ad6-8f75-89fff1edcc78"
      },
      "source": [
        "df.head(1)"
      ],
      "execution_count": null,
      "outputs": [
        {
          "output_type": "execute_result",
          "data": {
            "text/html": [
              "<div>\n",
              "<style scoped>\n",
              "    .dataframe tbody tr th:only-of-type {\n",
              "        vertical-align: middle;\n",
              "    }\n",
              "\n",
              "    .dataframe tbody tr th {\n",
              "        vertical-align: top;\n",
              "    }\n",
              "\n",
              "    .dataframe thead th {\n",
              "        text-align: right;\n",
              "    }\n",
              "</style>\n",
              "<table border=\"1\" class=\"dataframe\">\n",
              "  <thead>\n",
              "    <tr style=\"text-align: right;\">\n",
              "      <th></th>\n",
              "      <th>MedInc</th>\n",
              "      <th>HouseAge</th>\n",
              "      <th>AveRooms</th>\n",
              "      <th>AveBedrms</th>\n",
              "      <th>Population</th>\n",
              "      <th>AveOccup</th>\n",
              "      <th>Latitude</th>\n",
              "      <th>Longitude</th>\n",
              "    </tr>\n",
              "  </thead>\n",
              "  <tbody>\n",
              "    <tr>\n",
              "      <th>0</th>\n",
              "      <td>8.3252</td>\n",
              "      <td>41.0</td>\n",
              "      <td>6.984127</td>\n",
              "      <td>1.02381</td>\n",
              "      <td>322.0</td>\n",
              "      <td>2.555556</td>\n",
              "      <td>37.88</td>\n",
              "      <td>-122.23</td>\n",
              "    </tr>\n",
              "  </tbody>\n",
              "</table>\n",
              "</div>"
            ],
            "text/plain": [
              "   MedInc  HouseAge  AveRooms  ...  AveOccup  Latitude  Longitude\n",
              "0  8.3252      41.0  6.984127  ...  2.555556     37.88    -122.23\n",
              "\n",
              "[1 rows x 8 columns]"
            ]
          },
          "metadata": {
            "tags": []
          },
          "execution_count": 62
        }
      ]
    },
    {
      "cell_type": "code",
      "metadata": {
        "colab": {
          "base_uri": "https://localhost:8080/",
          "height": 134
        },
        "id": "YErbfW_4KDG7",
        "outputId": "69f4f3e0-4e46-4f52-a42d-681fd6457739"
      },
      "source": [
        "cancer_df.head(1)"
      ],
      "execution_count": null,
      "outputs": [
        {
          "output_type": "execute_result",
          "data": {
            "text/html": [
              "<div>\n",
              "<style scoped>\n",
              "    .dataframe tbody tr th:only-of-type {\n",
              "        vertical-align: middle;\n",
              "    }\n",
              "\n",
              "    .dataframe tbody tr th {\n",
              "        vertical-align: top;\n",
              "    }\n",
              "\n",
              "    .dataframe thead th {\n",
              "        text-align: right;\n",
              "    }\n",
              "</style>\n",
              "<table border=\"1\" class=\"dataframe\">\n",
              "  <thead>\n",
              "    <tr style=\"text-align: right;\">\n",
              "      <th></th>\n",
              "      <th>mean radius</th>\n",
              "      <th>mean texture</th>\n",
              "      <th>mean perimeter</th>\n",
              "      <th>mean area</th>\n",
              "      <th>mean smoothness</th>\n",
              "      <th>mean compactness</th>\n",
              "      <th>mean concavity</th>\n",
              "      <th>mean concave points</th>\n",
              "      <th>mean symmetry</th>\n",
              "      <th>mean fractal dimension</th>\n",
              "      <th>radius error</th>\n",
              "      <th>texture error</th>\n",
              "      <th>perimeter error</th>\n",
              "      <th>area error</th>\n",
              "      <th>smoothness error</th>\n",
              "      <th>compactness error</th>\n",
              "      <th>concavity error</th>\n",
              "      <th>concave points error</th>\n",
              "      <th>symmetry error</th>\n",
              "      <th>fractal dimension error</th>\n",
              "      <th>worst radius</th>\n",
              "      <th>worst texture</th>\n",
              "      <th>worst perimeter</th>\n",
              "      <th>worst area</th>\n",
              "      <th>worst smoothness</th>\n",
              "      <th>worst compactness</th>\n",
              "      <th>worst concavity</th>\n",
              "      <th>worst concave points</th>\n",
              "      <th>worst symmetry</th>\n",
              "      <th>worst fractal dimension</th>\n",
              "      <th>has_cancer?</th>\n",
              "    </tr>\n",
              "  </thead>\n",
              "  <tbody>\n",
              "    <tr>\n",
              "      <th>0</th>\n",
              "      <td>17.99</td>\n",
              "      <td>10.38</td>\n",
              "      <td>122.8</td>\n",
              "      <td>1001.0</td>\n",
              "      <td>0.1184</td>\n",
              "      <td>0.2776</td>\n",
              "      <td>0.3001</td>\n",
              "      <td>0.1471</td>\n",
              "      <td>0.2419</td>\n",
              "      <td>0.07871</td>\n",
              "      <td>1.095</td>\n",
              "      <td>0.9053</td>\n",
              "      <td>8.589</td>\n",
              "      <td>153.4</td>\n",
              "      <td>0.006399</td>\n",
              "      <td>0.04904</td>\n",
              "      <td>0.05373</td>\n",
              "      <td>0.01587</td>\n",
              "      <td>0.03003</td>\n",
              "      <td>0.006193</td>\n",
              "      <td>25.38</td>\n",
              "      <td>17.33</td>\n",
              "      <td>184.6</td>\n",
              "      <td>2019.0</td>\n",
              "      <td>0.1622</td>\n",
              "      <td>0.6656</td>\n",
              "      <td>0.7119</td>\n",
              "      <td>0.2654</td>\n",
              "      <td>0.4601</td>\n",
              "      <td>0.1189</td>\n",
              "      <td>0</td>\n",
              "    </tr>\n",
              "  </tbody>\n",
              "</table>\n",
              "</div>"
            ],
            "text/plain": [
              "   mean radius  mean texture  ...  worst fractal dimension  has_cancer?\n",
              "0        17.99         10.38  ...                   0.1189            0\n",
              "\n",
              "[1 rows x 31 columns]"
            ]
          },
          "metadata": {
            "tags": []
          },
          "execution_count": 63
        }
      ]
    },
    {
      "cell_type": "code",
      "metadata": {
        "colab": {
          "base_uri": "https://localhost:8080/",
          "height": 80
        },
        "id": "1BTGlErEKHxv",
        "outputId": "74777342-eeb1-4e5d-f92d-ae12bd52f3da"
      },
      "source": [
        "wine_df.head(1)"
      ],
      "execution_count": null,
      "outputs": [
        {
          "output_type": "execute_result",
          "data": {
            "text/html": [
              "<div>\n",
              "<style scoped>\n",
              "    .dataframe tbody tr th:only-of-type {\n",
              "        vertical-align: middle;\n",
              "    }\n",
              "\n",
              "    .dataframe tbody tr th {\n",
              "        vertical-align: top;\n",
              "    }\n",
              "\n",
              "    .dataframe thead th {\n",
              "        text-align: right;\n",
              "    }\n",
              "</style>\n",
              "<table border=\"1\" class=\"dataframe\">\n",
              "  <thead>\n",
              "    <tr style=\"text-align: right;\">\n",
              "      <th></th>\n",
              "      <th>alcohol</th>\n",
              "      <th>malic_acid</th>\n",
              "      <th>ash</th>\n",
              "      <th>alcalinity_of_ash</th>\n",
              "      <th>magnesium</th>\n",
              "      <th>total_phenols</th>\n",
              "      <th>flavanoids</th>\n",
              "      <th>nonflavanoid_phenols</th>\n",
              "      <th>proanthocyanins</th>\n",
              "      <th>color_intensity</th>\n",
              "      <th>hue</th>\n",
              "      <th>od280/od315_of_diluted_wines</th>\n",
              "      <th>proline</th>\n",
              "    </tr>\n",
              "  </thead>\n",
              "  <tbody>\n",
              "    <tr>\n",
              "      <th>0</th>\n",
              "      <td>14.23</td>\n",
              "      <td>1.71</td>\n",
              "      <td>2.43</td>\n",
              "      <td>15.6</td>\n",
              "      <td>127.0</td>\n",
              "      <td>2.8</td>\n",
              "      <td>3.06</td>\n",
              "      <td>0.28</td>\n",
              "      <td>2.29</td>\n",
              "      <td>5.64</td>\n",
              "      <td>1.04</td>\n",
              "      <td>3.92</td>\n",
              "      <td>1065.0</td>\n",
              "    </tr>\n",
              "  </tbody>\n",
              "</table>\n",
              "</div>"
            ],
            "text/plain": [
              "   alcohol  malic_acid   ash  ...   hue  od280/od315_of_diluted_wines  proline\n",
              "0    14.23        1.71  2.43  ...  1.04                          3.92   1065.0\n",
              "\n",
              "[1 rows x 13 columns]"
            ]
          },
          "metadata": {
            "tags": []
          },
          "execution_count": 64
        }
      ]
    },
    {
      "cell_type": "code",
      "metadata": {
        "colab": {
          "base_uri": "https://localhost:8080/",
          "height": 80
        },
        "id": "c01GSfZsKKRz",
        "outputId": "0e95987b-3108-476e-9a2f-8816ecf76007"
      },
      "source": [
        "iris_df.head(1)"
      ],
      "execution_count": null,
      "outputs": [
        {
          "output_type": "execute_result",
          "data": {
            "text/html": [
              "<div>\n",
              "<style scoped>\n",
              "    .dataframe tbody tr th:only-of-type {\n",
              "        vertical-align: middle;\n",
              "    }\n",
              "\n",
              "    .dataframe tbody tr th {\n",
              "        vertical-align: top;\n",
              "    }\n",
              "\n",
              "    .dataframe thead th {\n",
              "        text-align: right;\n",
              "    }\n",
              "</style>\n",
              "<table border=\"1\" class=\"dataframe\">\n",
              "  <thead>\n",
              "    <tr style=\"text-align: right;\">\n",
              "      <th></th>\n",
              "      <th>sepal length (cm)</th>\n",
              "      <th>sepal width (cm)</th>\n",
              "      <th>petal length (cm)</th>\n",
              "      <th>petal width (cm)</th>\n",
              "      <th>species</th>\n",
              "    </tr>\n",
              "  </thead>\n",
              "  <tbody>\n",
              "    <tr>\n",
              "      <th>0</th>\n",
              "      <td>5.1</td>\n",
              "      <td>3.5</td>\n",
              "      <td>1.4</td>\n",
              "      <td>0.2</td>\n",
              "      <td>0</td>\n",
              "    </tr>\n",
              "  </tbody>\n",
              "</table>\n",
              "</div>"
            ],
            "text/plain": [
              "   sepal length (cm)  sepal width (cm)  ...  petal width (cm)  species\n",
              "0                5.1               3.5  ...               0.2        0\n",
              "\n",
              "[1 rows x 5 columns]"
            ]
          },
          "metadata": {
            "tags": []
          },
          "execution_count": 65
        }
      ]
    },
    {
      "cell_type": "code",
      "metadata": {
        "id": "R6vqg4kKWT9z"
      },
      "source": [
        "#1. Use matplotlib to create a histogram of the population in the DataFrame df\n",
        "\n",
        "# remember to use plt.subplots() to isntantiate your visualization with matplotlib\n"
      ],
      "execution_count": null,
      "outputs": []
    },
    {
      "cell_type": "code",
      "metadata": {
        "id": "LRB_H2CtWUKi"
      },
      "source": [
        "#2. Take the plot from before and label your title and axes\n"
      ],
      "execution_count": null,
      "outputs": []
    },
    {
      "cell_type": "code",
      "metadata": {
        "id": "67MARUA8WUS2"
      },
      "source": [
        "#3. Using Seaborn and the cancer dataframe, create a scatterplot showing\n",
        "# the relationship between the mean symmetry feature and the mean area feature. \n",
        "# label your points using the target feature 'has_cancer?'\n",
        "\n",
        "#note: FYI the target value 0 indicates a malignant tumor, and 1 indicates that it is benign\n"
      ],
      "execution_count": null,
      "outputs": []
    },
    {
      "cell_type": "code",
      "metadata": {
        "id": "7GxLyuLcWUZH"
      },
      "source": [
        "#4. use seaborn to create a pairplot for the following columns:\n",
        "\n",
        "\n"
      ],
      "execution_count": null,
      "outputs": []
    },
    {
      "cell_type": "code",
      "metadata": {
        "id": "JYmB9W6lWUes"
      },
      "source": [
        "#5. Plot a regression plot using seaborn. label the associated slope of the regression line\n"
      ],
      "execution_count": null,
      "outputs": []
    },
    {
      "cell_type": "code",
      "metadata": {
        "id": "xjDns51nWUlH"
      },
      "source": [
        "# 6.  plot the change in sales over time for the shampoo dataframe using plotly\n"
      ],
      "execution_count": null,
      "outputs": []
    },
    {
      "cell_type": "code",
      "metadata": {
        "id": "YGsyg3kXWU2-"
      },
      "source": [
        "#7. use plotly to plot a scatter plot between mean perimeter and worst perimeter\n"
      ],
      "execution_count": null,
      "outputs": []
    },
    {
      "cell_type": "code",
      "metadata": {
        "id": "OOcq0SwzWU9R"
      },
      "source": [
        "# 8. Optional Challenge Question : Use the Bokeh library to make an interactive scatterplot of the iris morphology\n",
        "\n",
        "\n"
      ],
      "execution_count": null,
      "outputs": []
    },
    {
      "cell_type": "code",
      "metadata": {
        "id": "ehxiP5gaWVD-"
      },
      "source": [
        "# 9. Using Folium, plot a point at the Eiffel Tower and display your map:\n",
        "\n",
        "\n"
      ],
      "execution_count": null,
      "outputs": []
    },
    {
      "cell_type": "code",
      "metadata": {
        "id": "mu6NeafDDTcZ"
      },
      "source": [
        "# 10. Optional Challenge Question : Use the Bokeh library to make a scatterplot of the iris morphology\n",
        "\n",
        "bok = iris_df.copy()\n",
        "# you have to instantiate the output_notebook for each cell\n",
        "output_notebook()\n"
      ],
      "execution_count": null,
      "outputs": []
    },
    {
      "cell_type": "code",
      "metadata": {
        "id": "pf4qYR0TWVLh"
      },
      "source": [
        "# 11 Optional Challenge: Using Folium, plot a line between Albany, NY, USA and the Empire State Building in New York City\n"
      ],
      "execution_count": null,
      "outputs": []
    },
    {
      "cell_type": "code",
      "metadata": {
        "id": "QxmYTH3UWVXe"
      },
      "source": [
        "# 12. optional challenge question: use a for loop to create a series of subplots that mimics the \n",
        "# pair plot functionality of the seaborn library. \n",
        "# hint: you can make a 5x5 set of plots using plt.subplots(5,5)"
      ],
      "execution_count": null,
      "outputs": []
    },
    {
      "cell_type": "markdown",
      "metadata": {
        "id": "9lp5JVDR-rem"
      },
      "source": [
        "## Section 4: Introducing the New York State Load data\n",
        "5 questions to help learn how to load in the dataset and how to format it.\n",
        "\n",
        "Run the cell below to download a snapshot of the data the advanced track's working with. We're going to use it as a good starting point for advancing your understanding of how data science works. "
      ]
    },
    {
      "cell_type": "code",
      "metadata": {
        "colab": {
          "base_uri": "https://localhost:8080/"
        },
        "id": "4A2OrjFz8AZj",
        "outputId": "ddb88a35-dfb6-4590-df99-19f7763a29c8"
      },
      "source": [
        "!wget https://raw.githubusercontent.com/Jameshskelton/datathon/main/Beginner_Track_dataset/OASIS_Real_Time_Dispatch_Actual_Load.csv"
      ],
      "execution_count": null,
      "outputs": [
        {
          "output_type": "stream",
          "text": [
            "--2021-07-23 19:10:19--  https://raw.githubusercontent.com/Jameshskelton/datathon/main/Beginner_Track_dataset/OASIS_Real_Time_Dispatch_Actual_Load.csv\n",
            "Resolving raw.githubusercontent.com (raw.githubusercontent.com)... 185.199.108.133, 185.199.110.133, 185.199.111.133, ...\n",
            "Connecting to raw.githubusercontent.com (raw.githubusercontent.com)|185.199.108.133|:443... connected.\n",
            "HTTP request sent, awaiting response... 200 OK\n",
            "Length: 4862601 (4.6M) [text/plain]\n",
            "Saving to: ‘OASIS_Real_Time_Dispatch_Actual_Load.csv’\n",
            "\n",
            "OASIS_Real_Time_Dis 100%[===================>]   4.64M  --.-KB/s    in 0.03s   \n",
            "\n",
            "2021-07-23 19:10:19 (138 MB/s) - ‘OASIS_Real_Time_Dispatch_Actual_Load.csv’ saved [4862601/4862601]\n",
            "\n"
          ],
          "name": "stdout"
        }
      ]
    },
    {
      "cell_type": "code",
      "metadata": {
        "id": "zFlvUgkcKxz_"
      },
      "source": [
        "# load up our dataframe from the !wget csv\n",
        "nyiso = pd.read_csv('OASIS_Real_Time_Dispatch_Actual_Load.csv')\n"
      ],
      "execution_count": null,
      "outputs": []
    },
    {
      "cell_type": "code",
      "metadata": {
        "id": "dwTWInSoDd_A"
      },
      "source": [
        "# 1. Let's do some Exploratory Data Analysis! \n",
        "# find the 5 number summary, count, standard deviation, and mean for each column\n",
        "# hint: you dont have to do it all at once\n"
      ],
      "execution_count": null,
      "outputs": []
    },
    {
      "cell_type": "code",
      "metadata": {
        "id": "cwhDxTEGENA2"
      },
      "source": [
        "# 2. print the index dtype and columns, non-null values and memory usage of the dataframe\n",
        "# hint: you dont have to do it all at once\n"
      ],
      "execution_count": null,
      "outputs": []
    },
    {
      "cell_type": "code",
      "metadata": {
        "id": "uYdvmQlnD8aG"
      },
      "source": [
        "# 3. Print all the 'Zone Names'"
      ],
      "execution_count": null,
      "outputs": []
    },
    {
      "cell_type": "code",
      "metadata": {
        "id": "j3he4CcXLICq"
      },
      "source": [
        "# 4. print all the column value-types\n"
      ],
      "execution_count": null,
      "outputs": []
    },
    {
      "cell_type": "code",
      "metadata": {
        "id": "XvpRdDVeLIh_"
      },
      "source": [
        "# 5. How would you specifically check to see if there are any null values\n",
        "# (without using .info())\n",
        "\n"
      ],
      "execution_count": null,
      "outputs": []
    },
    {
      "cell_type": "markdown",
      "metadata": {
        "id": "0eAaDxGX-rlA"
      },
      "source": [
        "## Section 5: Introductory data analytics with the New York State Load data\n",
        "15 questions that to start performing exploratory data analysis, while telling the story of the New York State's population fluctuations across the different regions in the month of June 2021."
      ]
    },
    {
      "cell_type": "code",
      "metadata": {
        "id": "lIq-EGMGbts0"
      },
      "source": [
        "# 1. Let's do some more in depth Exploratory Data Analysis! \n",
        "# Find the minimum energy load value in the entire dataset"
      ],
      "execution_count": null,
      "outputs": []
    },
    {
      "cell_type": "code",
      "metadata": {
        "id": "d3ol1exxdLay"
      },
      "source": [
        "# 2 find the maximum energy load value in the entire dataset"
      ],
      "execution_count": null,
      "outputs": []
    },
    {
      "cell_type": "code",
      "metadata": {
        "id": "yQrVvkIEdMVL"
      },
      "source": [
        "# 3 use .groupby() to find the mean load for each zone\n"
      ],
      "execution_count": null,
      "outputs": []
    },
    {
      "cell_type": "code",
      "metadata": {
        "id": "Fd3sSz_YdNFf"
      },
      "source": [
        "# 4 as you can see below, there are various Dtypes\n",
        "# Convert the column 'RTD End Time Stamp' to datetime\n",
        "# Read about datetime here: https://docs.python.org/3/library/datetime.html\n",
        "# Hint: use .astype()\n"
      ],
      "execution_count": null,
      "outputs": []
    },
    {
      "cell_type": "code",
      "metadata": {
        "id": "efbzUZLFdNLi"
      },
      "source": [
        "# 5 Let's practice using .loc[] Since there are 11 zones, let's look at \n",
        "# the first entries for each with .loc[] \n"
      ],
      "execution_count": null,
      "outputs": []
    },
    {
      "cell_type": "code",
      "metadata": {
        "id": "B9dLviykdNQ1"
      },
      "source": [
        "# 6 Now use .loc[]  select the column labeled RTD Actual Load\n"
      ],
      "execution_count": null,
      "outputs": []
    },
    {
      "cell_type": "code",
      "metadata": {
        "id": "ok47gwn1dNWR"
      },
      "source": [
        "# 7 let's do the same task as in question 6 but now with .iloc[]\n"
      ],
      "execution_count": null,
      "outputs": []
    },
    {
      "cell_type": "code",
      "metadata": {
        "id": "3_9MgpEbdNcL"
      },
      "source": [
        "# 8 earlier we .astyped our 'RTD End Time Stamp' feature to be in datetime.\n",
        "# Now that we have done that, we can use the datetime package to \n",
        "# get deeper understanding and organization. look below at the example\n",
        "# for how date time works. Then in the next cell, use that same methodology\n",
        "# to add a new column to our Pandas DataFrame\n",
        "from datetime import datetime as dt\n",
        "# im going to arbitrarily select the 6000th row for the example\n",
        "nyiso['RTD End Time Stamp'][6001].hour"
      ],
      "execution_count": null,
      "outputs": []
    },
    {
      "cell_type": "code",
      "metadata": {
        "id": "Wovo6L7NdNiR"
      },
      "source": [
        "# 9 Add a column called Hour of Day to the dataframe using datetime\n"
      ],
      "execution_count": null,
      "outputs": []
    },
    {
      "cell_type": "code",
      "metadata": {
        "id": "AFe_fvewdNnY"
      },
      "source": [
        "# 10 Use a group by to count how many per hour recordings of the power load were made\n",
        "# in the dataset\n"
      ],
      "execution_count": null,
      "outputs": []
    },
    {
      "cell_type": "code",
      "metadata": {
        "id": "uyP02JU5dNs2"
      },
      "source": [
        "# 11. sort the values of the DataFrame by the RTD Actual Load, and display the first 5 rows\n",
        "\n"
      ],
      "execution_count": null,
      "outputs": []
    },
    {
      "cell_type": "code",
      "metadata": {
        "id": "7s--bbPndNwt"
      },
      "source": [
        "# 12 find the peak RTD Actual Load for each zone\n",
        "\n"
      ],
      "execution_count": null,
      "outputs": []
    },
    {
      "cell_type": "code",
      "metadata": {
        "id": "4LYyr3B0dN1W"
      },
      "source": [
        "# 13 Find the time of day that has, on average, the highest power load for the \n",
        "# Centrl region\n"
      ],
      "execution_count": null,
      "outputs": []
    },
    {
      "cell_type": "code",
      "metadata": {
        "id": "cQKNDx0zdN4U"
      },
      "source": [
        "# 14 On june 27th at 5:00 pm, what was the RTD actual load value for the WEST region\n",
        "\n"
      ],
      "execution_count": null,
      "outputs": []
    },
    {
      "cell_type": "code",
      "metadata": {
        "id": "dINXqO15dN-P"
      },
      "source": [
        "# 15 Select the mean values for all the records with the CAPITL zone name \n"
      ],
      "execution_count": null,
      "outputs": []
    },
    {
      "cell_type": "code",
      "metadata": {
        "id": "mwwBSAsxEX0K"
      },
      "source": [
        "# Bonus Challenge question. There seems to be some problems with this data\n",
        "# certain hours of the day have more recordings of the load values. \n",
        "# make it so only recordings made at the cadence of every five minutes are used.\n",
        "# ex: time stamp 2021-06-27 17:00:00\tis okay, time stamp 2021-06-27 17:01:12\tis not"
      ],
      "execution_count": null,
      "outputs": []
    },
    {
      "cell_type": "markdown",
      "metadata": {
        "id": "3BeLwA_3-ruS"
      },
      "source": [
        "## Section 6: Visualization in Python part 2: visualizing New York State Load data\n",
        "Now that we have familiarized ourselves with the dataset, let's make some visualizations. this can help you find patterns before practices like machine learning are even necessary. We've now seen several different types of libraries you can use. "
      ]
    },
    {
      "cell_type": "markdown",
      "metadata": {
        "id": "nIFzAyN8-02k"
      },
      "source": [
        ""
      ]
    },
    {
      "cell_type": "code",
      "metadata": {
        "id": "pcqRGT07bGZb"
      },
      "source": [
        "# 1. plot a bar chart using matplotlib of the mean RTD Actual load \n",
        "# be sure to label axes and the title\n",
        "\n",
        "\n"
      ],
      "execution_count": null,
      "outputs": []
    },
    {
      "cell_type": "code",
      "metadata": {
        "id": "Up7IU2QLDQZD"
      },
      "source": [
        "#2. plot the change in load values over the different hours of the day for the\n",
        "# N.Y.C. zone using Seaborn\n",
        "# be sure to label your axes and add a title!\n",
        "\n"
      ],
      "execution_count": null,
      "outputs": []
    },
    {
      "cell_type": "code",
      "metadata": {
        "id": "0ksLpC6IE86g"
      },
      "source": [
        "# 3. Using the plot above, notice there are multiple patterns in the data, \n",
        "# across both the day, each week, and the month. this is called seasonality.\n",
        "# identify two of these patterns below. \n",
        "# hint: don't think too hard about this. yearly is a type of seasonal pattern i'm \n",
        "# talking about, but there isnt a years worth of data here. \n",
        "\n",
        "# daily, weekly"
      ],
      "execution_count": null,
      "outputs": []
    },
    {
      "cell_type": "code",
      "metadata": {
        "id": "FWXDUco5MUbr"
      },
      "source": [
        "# 4. Plot a histogram showing the count for each hour of the day using matplotlib\n",
        "# you'll see it's not very useful. not every plot is useful for showing information\n",
        "# be sure to label axes and the title\n"
      ],
      "execution_count": null,
      "outputs": []
    },
    {
      "cell_type": "code",
      "metadata": {
        "id": "1zp_iJxOU-oC"
      },
      "source": [
        "# 6. use matplotlib.pyplot (plt) to plot the different regions RTD Actual Load \n",
        "# over time with a line plot for the CAPITL zone. be sure to label axes and the title\n",
        "\n",
        "\n"
      ],
      "execution_count": null,
      "outputs": []
    },
    {
      "cell_type": "code",
      "metadata": {
        "id": "LZ4lIsouWen7"
      },
      "source": [
        "# 5 lets look at the distribution of values more closely with a box plot.\n",
        "#  box plot the RTD actual load for the CAPITL zone, and label your plot\n"
      ],
      "execution_count": null,
      "outputs": []
    },
    {
      "cell_type": "code",
      "metadata": {
        "id": "il8UqhRJMVZP"
      },
      "source": [
        "# Challenge: 6.  create a box plot using matplotlib displaying the different distributions of \n",
        "# RTD Actual Load for each Zone\n"
      ],
      "execution_count": null,
      "outputs": []
    },
    {
      "cell_type": "code",
      "metadata": {
        "id": "E3577Y4eldbM"
      },
      "source": [
        "# 7. plot the change in load values over the different hours of the day for the\n",
        "#  N.Y.C. zone using Seaborn\n"
      ],
      "execution_count": null,
      "outputs": []
    },
    {
      "cell_type": "code",
      "metadata": {
        "id": "mwcZNPzjMVPo"
      },
      "source": [
        "# 8. Use Seaborn to plot the different regions RTD Actual Load over time with line plots\n",
        "# hint: hue = 'Zone Name' will let you see them in different colors\n"
      ],
      "execution_count": null,
      "outputs": []
    },
    {
      "cell_type": "code",
      "metadata": {
        "id": "vn2Ua_HnMVdD"
      },
      "source": [
        "# 9. create a box plot using seaborn displaying the different distributions of \n",
        "# RTD Actual Load for each Zone\n",
        "\n"
      ],
      "execution_count": null,
      "outputs": []
    },
    {
      "cell_type": "code",
      "metadata": {
        "id": "6NwVt8mQMVhy"
      },
      "source": [
        "# 10. plot a histogram using seaborn for the LONGIL zone's 'RTD Actual Load'\n",
        "\n"
      ],
      "execution_count": null,
      "outputs": []
    },
    {
      "cell_type": "code",
      "metadata": {
        "id": "jgtrM1EemHnE"
      },
      "source": [
        "# 11. Challenge Question: using plt.subplots to arrange them, use a for loop to \n",
        "# make a histogram for each region like above and display all of them below\n",
        "\n"
      ],
      "execution_count": null,
      "outputs": []
    },
    {
      "cell_type": "code",
      "metadata": {
        "id": "CCnieewyMVl1"
      },
      "source": [
        "# 12. Let's try something new! now that we have made histograms and line plots, we have a rough\n",
        "# idea for how the data is distributed. use sns.jointplot() to look at the distribution\n",
        "# of RTD Actual load (x) against the hour of day (y) for the 'CAPITL' zone\n"
      ],
      "execution_count": null,
      "outputs": []
    },
    {
      "cell_type": "code",
      "metadata": {
        "id": "cvgAxqjSLrY_"
      },
      "source": [
        "# 13. use plotly to create a colored line plot of the different RTD Actual Loads over time\n",
        "\n"
      ],
      "execution_count": null,
      "outputs": []
    },
    {
      "cell_type": "code",
      "metadata": {
        "id": "kHn4nPtQlWVy"
      },
      "source": [
        "# 14 use plotly to make a combined histogram of all the different RTD Actual Loads\n",
        "# and use the zone name to differentiate the plots within the space \n",
        "# tip: double click on the legend values on the side to isolate individual histograms!\n"
      ],
      "execution_count": null,
      "outputs": []
    },
    {
      "cell_type": "code",
      "metadata": {
        "colab": {
          "base_uri": "https://localhost:8080/",
          "height": 201
        },
        "id": "TzYQZXvssqgn",
        "outputId": "f9721d95-004c-4dd9-b397-87dd938ad831"
      },
      "source": [
        "# 15 Challenge: Use Bokeh to create a plot of the RTD Actual Load against\n",
        "# the hour of the day and color the values by zone name\n",
        "\n",
        "bok = nyiso.copy()\n",
        "# you have to instantiate the output_notebook for each cell\n",
        "output_notebook()\n"
      ],
      "execution_count": null,
      "outputs": [
        {
          "output_type": "error",
          "ename": "NameError",
          "evalue": "ignored",
          "traceback": [
            "\u001b[0;31m---------------------------------------------------------------------------\u001b[0m",
            "\u001b[0;31mNameError\u001b[0m                                 Traceback (most recent call last)",
            "\u001b[0;32m<ipython-input-58-008981413fc1>\u001b[0m in \u001b[0;36m<module>\u001b[0;34m()\u001b[0m\n\u001b[1;32m      4\u001b[0m \u001b[0mbok\u001b[0m \u001b[0;34m=\u001b[0m \u001b[0mnyiso\u001b[0m\u001b[0;34m.\u001b[0m\u001b[0mcopy\u001b[0m\u001b[0;34m(\u001b[0m\u001b[0;34m)\u001b[0m\u001b[0;34m\u001b[0m\u001b[0;34m\u001b[0m\u001b[0m\n\u001b[1;32m      5\u001b[0m \u001b[0;31m# you have to instantiate the output_notebook for each cell\u001b[0m\u001b[0;34m\u001b[0m\u001b[0;34m\u001b[0m\u001b[0;34m\u001b[0m\u001b[0m\n\u001b[0;32m----> 6\u001b[0;31m \u001b[0moutput_notebook\u001b[0m\u001b[0;34m(\u001b[0m\u001b[0;34m)\u001b[0m\u001b[0;34m\u001b[0m\u001b[0;34m\u001b[0m\u001b[0m\n\u001b[0m",
            "\u001b[0;31mNameError\u001b[0m: name 'output_notebook' is not defined"
          ]
        }
      ]
    }
  ]
}